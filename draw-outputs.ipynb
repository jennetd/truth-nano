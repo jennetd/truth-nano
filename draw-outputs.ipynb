{
 "cells": [
  {
   "cell_type": "code",
   "execution_count": 1,
   "id": "0957e54b-ff96-427b-aa76-d99bbf976925",
   "metadata": {},
   "outputs": [],
   "source": [
    "import warnings\n",
    "import numpy as np\n",
    "import numba\n",
    "import matplotlib.pyplot as plt\n",
    "plt.rcParams['font.size'] = '14'\n",
    "import hist\n",
    "s = hist.tag.Slicer()\n",
    "\n",
    "from coffea import util\n",
    "\n",
    "import warnings\n",
    "warnings.filterwarnings('ignore')"
   ]
  },
  {
   "cell_type": "code",
   "execution_count": 2,
   "id": "03b9aad4-61da-4d8a-8e39-94e22a2c976b",
   "metadata": {},
   "outputs": [],
   "source": [
    "indir = \"coffea/\"\n",
    "procs = {\"EWKZToQQ\",\"EWKWminusToQQ\",\"EWKWplusToQQ\"}"
   ]
  },
  {
   "cell_type": "code",
   "execution_count": 3,
   "id": "b83adeb3-7807-4c35-a237-e0c1b02e388b",
   "metadata": {},
   "outputs": [],
   "source": [
    "def plot_with_ratio(p, var, rebin=1):\n",
    "\n",
    "    h1 = util.load(indir+p+\"_dollar.coffea\")[var][{var:s[::hist.rebin(rebin)]}]\n",
    "    h2 = util.load(indir+p+\"_slash.coffea\")[var][{var:s[::hist.rebin(rebin)]}]\n",
    "\n",
    "    fig, ax = plt.subplots(1,1)  \n",
    "        \n",
    "    h1 = h1/h1.sum().value\n",
    "    h1.plot(ax=ax,label='$')\n",
    "    h2 = h2/h2.sum().value\n",
    "    h2.plot(ax=ax,label='/')\n",
    "\n",
    "    ax.set_yscale('log')    \n",
    "    ax.set_ylabel('Events (normalized)')    \n",
    "    \n",
    "    fig.legend(frameon=False,title=p,bbox_to_anchor=(0.9,0.9))\n",
    "    #fig.savefig(\"figures/\"+samp+\"_\"+var+\".png\")\n"
   ]
  },
  {
   "cell_type": "code",
   "execution_count": 4,
   "id": "c3d29560-eaea-4d1c-86d8-6b3b21f8f643",
   "metadata": {},
   "outputs": [
    {
     "ename": "FileNotFoundError",
     "evalue": "[Errno 2] No such file or directory: 'coffea/EWKZToQQ_dollar.coffea'",
     "output_type": "error",
     "traceback": [
      "\u001b[0;31m---------------------------------------------------------------------------\u001b[0m",
      "\u001b[0;31mFileNotFoundError\u001b[0m                         Traceback (most recent call last)",
      "Cell \u001b[0;32mIn[4], line 1\u001b[0m\n\u001b[0;32m----> 1\u001b[0m \u001b[43mplot_with_ratio\u001b[49m\u001b[43m(\u001b[49m\u001b[38;5;124;43m'\u001b[39;49m\u001b[38;5;124;43mEWKZToQQ\u001b[39;49m\u001b[38;5;124;43m'\u001b[39;49m\u001b[43m,\u001b[49m\u001b[38;5;124;43m'\u001b[39;49m\u001b[38;5;124;43mvpt\u001b[39;49m\u001b[38;5;124;43m'\u001b[39;49m\u001b[43m,\u001b[49m\u001b[43mrebin\u001b[49m\u001b[38;5;241;43m=\u001b[39;49m\u001b[38;5;241;43m10\u001b[39;49m\u001b[43m)\u001b[49m\n\u001b[1;32m      2\u001b[0m plot_with_ratio(\u001b[38;5;124m'\u001b[39m\u001b[38;5;124mEWKZToQQ\u001b[39m\u001b[38;5;124m'\u001b[39m,\u001b[38;5;124m'\u001b[39m\u001b[38;5;124mq1pt\u001b[39m\u001b[38;5;124m'\u001b[39m,rebin\u001b[38;5;241m=\u001b[39m\u001b[38;5;241m10\u001b[39m)\n\u001b[1;32m      3\u001b[0m plot_with_ratio(\u001b[38;5;124m'\u001b[39m\u001b[38;5;124mEWKZToQQ\u001b[39m\u001b[38;5;124m'\u001b[39m,\u001b[38;5;124m'\u001b[39m\u001b[38;5;124mq2pt\u001b[39m\u001b[38;5;124m'\u001b[39m,rebin\u001b[38;5;241m=\u001b[39m\u001b[38;5;241m10\u001b[39m)\n",
      "Cell \u001b[0;32mIn[3], line 3\u001b[0m, in \u001b[0;36mplot_with_ratio\u001b[0;34m(p, var, rebin)\u001b[0m\n\u001b[1;32m      1\u001b[0m \u001b[38;5;28;01mdef\u001b[39;00m \u001b[38;5;21mplot_with_ratio\u001b[39m(p, var, rebin\u001b[38;5;241m=\u001b[39m\u001b[38;5;241m1\u001b[39m):\n\u001b[0;32m----> 3\u001b[0m     h1 \u001b[38;5;241m=\u001b[39m \u001b[43mutil\u001b[49m\u001b[38;5;241;43m.\u001b[39;49m\u001b[43mload\u001b[49m\u001b[43m(\u001b[49m\u001b[43mindir\u001b[49m\u001b[38;5;241;43m+\u001b[39;49m\u001b[43mp\u001b[49m\u001b[38;5;241;43m+\u001b[39;49m\u001b[38;5;124;43m\"\u001b[39;49m\u001b[38;5;124;43m_dollar.coffea\u001b[39;49m\u001b[38;5;124;43m\"\u001b[39;49m\u001b[43m)\u001b[49m[var][{var:s[::hist\u001b[38;5;241m.\u001b[39mrebin(rebin)]}]\n\u001b[1;32m      4\u001b[0m     h2 \u001b[38;5;241m=\u001b[39m util\u001b[38;5;241m.\u001b[39mload(indir\u001b[38;5;241m+\u001b[39mp\u001b[38;5;241m+\u001b[39m\u001b[38;5;124m\"\u001b[39m\u001b[38;5;124m_slash.coffea\u001b[39m\u001b[38;5;124m\"\u001b[39m)[var][{var:s[::hist\u001b[38;5;241m.\u001b[39mrebin(rebin)]}]\n\u001b[1;32m      6\u001b[0m     fig, ax \u001b[38;5;241m=\u001b[39m plt\u001b[38;5;241m.\u001b[39msubplots(\u001b[38;5;241m1\u001b[39m,\u001b[38;5;241m1\u001b[39m)  \n",
      "File \u001b[0;32m/opt/conda/lib/python3.10/site-packages/coffea/util.py:33\u001b[0m, in \u001b[0;36mload\u001b[0;34m(filename)\u001b[0m\n\u001b[1;32m     31\u001b[0m \u001b[38;5;28;01mdef\u001b[39;00m \u001b[38;5;21mload\u001b[39m(filename):\n\u001b[1;32m     32\u001b[0m \u001b[38;5;250m    \u001b[39m\u001b[38;5;124;03m\"\"\"Load a coffea file from disk\"\"\"\u001b[39;00m\n\u001b[0;32m---> 33\u001b[0m     \u001b[38;5;28;01mwith\u001b[39;00m \u001b[43mlz4\u001b[49m\u001b[38;5;241;43m.\u001b[39;49m\u001b[43mframe\u001b[49m\u001b[38;5;241;43m.\u001b[39;49m\u001b[43mopen\u001b[49m\u001b[43m(\u001b[49m\u001b[43mfilename\u001b[49m\u001b[43m)\u001b[49m \u001b[38;5;28;01mas\u001b[39;00m fin:\n\u001b[1;32m     34\u001b[0m         output \u001b[38;5;241m=\u001b[39m cloudpickle\u001b[38;5;241m.\u001b[39mload(fin)\n\u001b[1;32m     35\u001b[0m     \u001b[38;5;28;01mreturn\u001b[39;00m output\n",
      "File \u001b[0;32m/opt/conda/lib/python3.10/site-packages/lz4/frame/__init__.py:878\u001b[0m, in \u001b[0;36mopen\u001b[0;34m(filename, mode, encoding, errors, newline, block_size, block_linked, compression_level, content_checksum, block_checksum, auto_flush, return_bytearray, source_size)\u001b[0m\n\u001b[1;32m    874\u001b[0m         \u001b[38;5;28;01mraise\u001b[39;00m \u001b[38;5;167;01mValueError\u001b[39;00m(\u001b[38;5;124m\"\u001b[39m\u001b[38;5;124mArgument \u001b[39m\u001b[38;5;124m'\u001b[39m\u001b[38;5;124mnewline\u001b[39m\u001b[38;5;124m'\u001b[39m\u001b[38;5;124m not supported in binary mode\u001b[39m\u001b[38;5;124m\"\u001b[39m)\n\u001b[1;32m    876\u001b[0m _mode \u001b[38;5;241m=\u001b[39m mode\u001b[38;5;241m.\u001b[39mreplace(\u001b[38;5;124m'\u001b[39m\u001b[38;5;124mt\u001b[39m\u001b[38;5;124m'\u001b[39m, \u001b[38;5;124m'\u001b[39m\u001b[38;5;124m'\u001b[39m)\n\u001b[0;32m--> 878\u001b[0m binary_file \u001b[38;5;241m=\u001b[39m \u001b[43mLZ4FrameFile\u001b[49m\u001b[43m(\u001b[49m\n\u001b[1;32m    879\u001b[0m \u001b[43m    \u001b[49m\u001b[43mfilename\u001b[49m\u001b[43m,\u001b[49m\n\u001b[1;32m    880\u001b[0m \u001b[43m    \u001b[49m\u001b[43mmode\u001b[49m\u001b[38;5;241;43m=\u001b[39;49m\u001b[43m_mode\u001b[49m\u001b[43m,\u001b[49m\n\u001b[1;32m    881\u001b[0m \u001b[43m    \u001b[49m\u001b[43mblock_size\u001b[49m\u001b[38;5;241;43m=\u001b[39;49m\u001b[43mblock_size\u001b[49m\u001b[43m,\u001b[49m\n\u001b[1;32m    882\u001b[0m \u001b[43m    \u001b[49m\u001b[43mblock_linked\u001b[49m\u001b[38;5;241;43m=\u001b[39;49m\u001b[43mblock_linked\u001b[49m\u001b[43m,\u001b[49m\n\u001b[1;32m    883\u001b[0m \u001b[43m    \u001b[49m\u001b[43mcompression_level\u001b[49m\u001b[38;5;241;43m=\u001b[39;49m\u001b[43mcompression_level\u001b[49m\u001b[43m,\u001b[49m\n\u001b[1;32m    884\u001b[0m \u001b[43m    \u001b[49m\u001b[43mcontent_checksum\u001b[49m\u001b[38;5;241;43m=\u001b[39;49m\u001b[43mcontent_checksum\u001b[49m\u001b[43m,\u001b[49m\n\u001b[1;32m    885\u001b[0m \u001b[43m    \u001b[49m\u001b[43mblock_checksum\u001b[49m\u001b[38;5;241;43m=\u001b[39;49m\u001b[43mblock_checksum\u001b[49m\u001b[43m,\u001b[49m\n\u001b[1;32m    886\u001b[0m \u001b[43m    \u001b[49m\u001b[43mauto_flush\u001b[49m\u001b[38;5;241;43m=\u001b[39;49m\u001b[43mauto_flush\u001b[49m\u001b[43m,\u001b[49m\n\u001b[1;32m    887\u001b[0m \u001b[43m    \u001b[49m\u001b[43mreturn_bytearray\u001b[49m\u001b[38;5;241;43m=\u001b[39;49m\u001b[43mreturn_bytearray\u001b[49m\u001b[43m,\u001b[49m\n\u001b[1;32m    888\u001b[0m \u001b[43m    \u001b[49m\u001b[43msource_size\u001b[49m\u001b[38;5;241;43m=\u001b[39;49m\u001b[43msource_size\u001b[49m\u001b[43m,\u001b[49m\n\u001b[1;32m    889\u001b[0m \u001b[43m\u001b[49m\u001b[43m)\u001b[49m\n\u001b[1;32m    891\u001b[0m \u001b[38;5;28;01mif\u001b[39;00m \u001b[38;5;124m'\u001b[39m\u001b[38;5;124mt\u001b[39m\u001b[38;5;124m'\u001b[39m \u001b[38;5;129;01min\u001b[39;00m mode:\n\u001b[1;32m    892\u001b[0m     \u001b[38;5;28;01mreturn\u001b[39;00m io\u001b[38;5;241m.\u001b[39mTextIOWrapper(binary_file, encoding, errors, newline)\n",
      "File \u001b[0;32m/opt/conda/lib/python3.10/site-packages/lz4/frame/__init__.py:530\u001b[0m, in \u001b[0;36mLZ4FrameFile.__init__\u001b[0;34m(self, filename, mode, block_size, block_linked, compression_level, content_checksum, block_checksum, auto_flush, return_bytearray, source_size)\u001b[0m\n\u001b[1;32m    528\u001b[0m \u001b[38;5;28;01mif\u001b[39;00m \u001b[38;5;124m'\u001b[39m\u001b[38;5;124mb\u001b[39m\u001b[38;5;124m'\u001b[39m \u001b[38;5;129;01mnot\u001b[39;00m \u001b[38;5;129;01min\u001b[39;00m mode:\n\u001b[1;32m    529\u001b[0m     mode \u001b[38;5;241m+\u001b[39m\u001b[38;5;241m=\u001b[39m \u001b[38;5;124m'\u001b[39m\u001b[38;5;124mb\u001b[39m\u001b[38;5;124m'\u001b[39m\n\u001b[0;32m--> 530\u001b[0m \u001b[38;5;28mself\u001b[39m\u001b[38;5;241m.\u001b[39m_fp \u001b[38;5;241m=\u001b[39m \u001b[43mbuiltins\u001b[49m\u001b[38;5;241;43m.\u001b[39;49m\u001b[43mopen\u001b[49m\u001b[43m(\u001b[49m\u001b[43mfilename\u001b[49m\u001b[43m,\u001b[49m\u001b[43m \u001b[49m\u001b[43mmode\u001b[49m\u001b[43m)\u001b[49m\n\u001b[1;32m    531\u001b[0m \u001b[38;5;28mself\u001b[39m\u001b[38;5;241m.\u001b[39m_closefp \u001b[38;5;241m=\u001b[39m \u001b[38;5;28;01mTrue\u001b[39;00m\n\u001b[1;32m    532\u001b[0m \u001b[38;5;28mself\u001b[39m\u001b[38;5;241m.\u001b[39m_mode \u001b[38;5;241m=\u001b[39m mode_code\n",
      "\u001b[0;31mFileNotFoundError\u001b[0m: [Errno 2] No such file or directory: 'coffea/EWKZToQQ_dollar.coffea'"
     ]
    }
   ],
   "source": [
    "plot_with_ratio('EWKZToQQ','vpt',rebin=10)\n",
    "plot_with_ratio('EWKZToQQ','q1pt',rebin=10)\n",
    "plot_with_ratio('EWKZToQQ','q2pt',rebin=10)\n",
    "plot_with_ratio('EWKZToQQ','detaqq',rebin=10)\n",
    "plot_with_ratio('EWKZToQQ','dphiqq',rebin=10)\n",
    "plot_with_ratio('EWKZToQQ','mqq',rebin=10)"
   ]
  },
  {
   "cell_type": "code",
   "execution_count": null,
   "id": "888be409-96e0-48aa-a318-858929e0968f",
   "metadata": {},
   "outputs": [],
   "source": []
  }
 ],
 "metadata": {
  "kernelspec": {
   "display_name": "Python 3 (ipykernel)",
   "language": "python",
   "name": "python3"
  },
  "language_info": {
   "codemirror_mode": {
    "name": "ipython",
    "version": 3
   },
   "file_extension": ".py",
   "mimetype": "text/x-python",
   "name": "python",
   "nbconvert_exporter": "python",
   "pygments_lexer": "ipython3",
   "version": "3.10.8"
  }
 },
 "nbformat": 4,
 "nbformat_minor": 5
}
